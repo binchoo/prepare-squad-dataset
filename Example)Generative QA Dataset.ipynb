{
 "cells": [
  {
   "cell_type": "markdown",
   "metadata": {},
   "source": [
    "# Example) Build Generative QA Dataset"
   ]
  },
  {
   "cell_type": "markdown",
   "metadata": {},
   "source": [
    "# 1. Without Tokenization\n",
    "\n",
    "1. Create a `SquadGuru` object who is an NLP expert. Let him `gather` the complex squad json dataset organized to make it usable in an NLP task.\n",
    "\n",
    "   - Constructor Signature\n",
    "\n",
    "     ```python\n",
    "     SquadGuru(parser: SquadParser, #parser which implement SquadParser\n",
    "               tokenizer=None, #tokenizer which implement .tokenize(text: str)\n",
    "               tags=SQUAD_TAGS, #iterable of str\n",
    "               versions=SQUAD_VERSIONS #iterable of float\n",
    "     )\n",
    "     ```\n",
    "\n",
    "   - Inject a `parser`, which the guru will use to extract X and Y data from the original suqad dataset.\n",
    "   - Inject a `tokenizer` that will be used to create tokenized X and Y.\n",
    "   - Inject an iterable of `tags` that describes the tags of the dataset to load.\n",
    "   - Inject an iterable of `versions` that describes the versions of the dataset to load. Version's datatype is `float`.\n",
    "\n",
    "\n",
    "   Here we're gonna use `GenerativeQAParser`. In order to create an instance of it, use static factory method pattern like: `SquadParser.from_nlp_task('GEN_QA')`"
   ]
  },
  {
   "cell_type": "code",
   "execution_count": 1,
   "metadata": {},
   "outputs": [],
   "source": [
    "from prep_squad.guru import SquadGuru\n",
    "from prep_squad.parser import SquadParser\n",
    "\n",
    "squad_parser = SquadParser.from_nlp_task('GEN_QA')\n",
    "guru = SquadGuru(squad_parser, tags=['dev'], versions=(1.1, 2.0))"
   ]
  },
  {
   "cell_type": "markdown",
   "metadata": {},
   "source": [
    "2. Use `squadGuru.gather()` to let the guru remember extracted X and Y.\n",
    "\n",
    "   - Method Signature\n",
    "\n",
    "     ```python\n",
    "     squadGuru.gather(only_first_answer=False, \n",
    "                      verbose=False)\n",
    "```\n",
    "     \n",
    "     - Set `only_first_answer` to extract the first answer in each of question-answers sets.\n",
    "     - Set `verbose` to print some logs."
   ]
  },
  {
   "cell_type": "code",
   "execution_count": 2,
   "metadata": {},
   "outputs": [
    {
     "name": "stdout",
     "output_type": "stream",
     "text": [
      "SQuAD-v1.1 dev dataset has been parsed.\n",
      "SQuAD-v2.0 dev dataset has been parsed.\n"
     ]
    }
   ],
   "source": [
    "guru.gather(only_first_answer=True, verbose=True)"
   ]
  },
  {
   "cell_type": "markdown",
   "metadata": {},
   "source": [
    "## Get DataFrame Table"
   ]
  },
  {
   "cell_type": "code",
   "execution_count": 3,
   "metadata": {},
   "outputs": [
    {
     "data": {
      "text/html": [
       "<div>\n",
       "<style scoped>\n",
       "    .dataframe tbody tr th:only-of-type {\n",
       "        vertical-align: middle;\n",
       "    }\n",
       "\n",
       "    .dataframe tbody tr th {\n",
       "        vertical-align: top;\n",
       "    }\n",
       "\n",
       "    .dataframe thead th {\n",
       "        text-align: right;\n",
       "    }\n",
       "</style>\n",
       "<table border=\"1\" class=\"dataframe\">\n",
       "  <thead>\n",
       "    <tr style=\"text-align: right;\">\n",
       "      <th></th>\n",
       "      <th>Input</th>\n",
       "      <th>Target</th>\n",
       "    </tr>\n",
       "  </thead>\n",
       "  <tbody>\n",
       "    <tr>\n",
       "      <th>0</th>\n",
       "      <td>Super Bowl 50 was an American football game to...</td>\n",
       "      <td>Denver Broncos</td>\n",
       "    </tr>\n",
       "    <tr>\n",
       "      <th>1</th>\n",
       "      <td>Super Bowl 50 was an American football game to...</td>\n",
       "      <td>Carolina Panthers</td>\n",
       "    </tr>\n",
       "    <tr>\n",
       "      <th>2</th>\n",
       "      <td>Super Bowl 50 was an American football game to...</td>\n",
       "      <td>Santa Clara, California</td>\n",
       "    </tr>\n",
       "    <tr>\n",
       "      <th>3</th>\n",
       "      <td>Super Bowl 50 was an American football game to...</td>\n",
       "      <td>Denver Broncos</td>\n",
       "    </tr>\n",
       "    <tr>\n",
       "      <th>4</th>\n",
       "      <td>Super Bowl 50 was an American football game to...</td>\n",
       "      <td>gold</td>\n",
       "    </tr>\n",
       "    <tr>\n",
       "      <th>...</th>\n",
       "      <td>...</td>\n",
       "      <td>...</td>\n",
       "    </tr>\n",
       "    <tr>\n",
       "      <th>16493</th>\n",
       "      <td>The pound-force has a metric counterpart, less...</td>\n",
       "      <td>kilogram-force</td>\n",
       "    </tr>\n",
       "    <tr>\n",
       "      <th>16494</th>\n",
       "      <td>The pound-force has a metric counterpart, less...</td>\n",
       "      <td>kilopond</td>\n",
       "    </tr>\n",
       "    <tr>\n",
       "      <th>16495</th>\n",
       "      <td>The pound-force has a metric counterpart, less...</td>\n",
       "      <td>slug</td>\n",
       "    </tr>\n",
       "    <tr>\n",
       "      <th>16496</th>\n",
       "      <td>The pound-force has a metric counterpart, less...</td>\n",
       "      <td>kip</td>\n",
       "    </tr>\n",
       "    <tr>\n",
       "      <th>16497</th>\n",
       "      <td>The pound-force has a metric counterpart, less...</td>\n",
       "      <td>sthène</td>\n",
       "    </tr>\n",
       "  </tbody>\n",
       "</table>\n",
       "<p>16498 rows × 2 columns</p>\n",
       "</div>"
      ],
      "text/plain": [
       "                                                   Input  \\\n",
       "0      Super Bowl 50 was an American football game to...   \n",
       "1      Super Bowl 50 was an American football game to...   \n",
       "2      Super Bowl 50 was an American football game to...   \n",
       "3      Super Bowl 50 was an American football game to...   \n",
       "4      Super Bowl 50 was an American football game to...   \n",
       "...                                                  ...   \n",
       "16493  The pound-force has a metric counterpart, less...   \n",
       "16494  The pound-force has a metric counterpart, less...   \n",
       "16495  The pound-force has a metric counterpart, less...   \n",
       "16496  The pound-force has a metric counterpart, less...   \n",
       "16497  The pound-force has a metric counterpart, less...   \n",
       "\n",
       "                        Target  \n",
       "0               Denver Broncos  \n",
       "1            Carolina Panthers  \n",
       "2      Santa Clara, California  \n",
       "3               Denver Broncos  \n",
       "4                         gold  \n",
       "...                        ...  \n",
       "16493           kilogram-force  \n",
       "16494                 kilopond  \n",
       "16495                     slug  \n",
       "16496                      kip  \n",
       "16497                   sthène  \n",
       "\n",
       "[16498 rows x 2 columns]"
      ]
     },
     "execution_count": 3,
     "metadata": {},
     "output_type": "execute_result"
    }
   ],
   "source": [
    "guru.to_dataframe()"
   ]
  },
  {
   "cell_type": "markdown",
   "metadata": {},
   "source": [
    "## Get Numpy Array "
   ]
  },
  {
   "cell_type": "code",
   "execution_count": 4,
   "metadata": {},
   "outputs": [
    {
     "data": {
      "text/plain": [
       "array([['Super Bowl 50 was an American football game to determine the champion of the National Football League (NFL) for the 2015 season. The American Football Conference (AFC) champion Denver Broncos defeated the National Football Conference (NFC) champion Carolina Panthers 24–10 to earn their third Super Bowl title. The game was played on February 7, 2016, at Levi\\'s Stadium in the San Francisco Bay Area at Santa Clara, California. As this was the 50th Super Bowl, the league emphasized the \"golden anniversary\" with various gold-themed initiatives, as well as temporarily suspending the tradition of naming each Super Bowl game with Roman numerals (under which the game would have been known as \"Super Bowl L\"), so that the logo could prominently feature the Arabic numerals 50. [SEP] Which NFL team represented the AFC at Super Bowl 50?',\n",
       "        'Denver Broncos'],\n",
       "       ['Super Bowl 50 was an American football game to determine the champion of the National Football League (NFL) for the 2015 season. The American Football Conference (AFC) champion Denver Broncos defeated the National Football Conference (NFC) champion Carolina Panthers 24–10 to earn their third Super Bowl title. The game was played on February 7, 2016, at Levi\\'s Stadium in the San Francisco Bay Area at Santa Clara, California. As this was the 50th Super Bowl, the league emphasized the \"golden anniversary\" with various gold-themed initiatives, as well as temporarily suspending the tradition of naming each Super Bowl game with Roman numerals (under which the game would have been known as \"Super Bowl L\"), so that the logo could prominently feature the Arabic numerals 50. [SEP] Which NFL team represented the NFC at Super Bowl 50?',\n",
       "        'Carolina Panthers'],\n",
       "       ['Super Bowl 50 was an American football game to determine the champion of the National Football League (NFL) for the 2015 season. The American Football Conference (AFC) champion Denver Broncos defeated the National Football Conference (NFC) champion Carolina Panthers 24–10 to earn their third Super Bowl title. The game was played on February 7, 2016, at Levi\\'s Stadium in the San Francisco Bay Area at Santa Clara, California. As this was the 50th Super Bowl, the league emphasized the \"golden anniversary\" with various gold-themed initiatives, as well as temporarily suspending the tradition of naming each Super Bowl game with Roman numerals (under which the game would have been known as \"Super Bowl L\"), so that the logo could prominently feature the Arabic numerals 50. [SEP] Where did Super Bowl 50 take place?',\n",
       "        'Santa Clara, California'],\n",
       "       ...,\n",
       "       ['The pound-force has a metric counterpart, less commonly used than the newton: the kilogram-force (kgf) (sometimes kilopond), is the force exerted by standard gravity on one kilogram of mass. The kilogram-force leads to an alternate, but rarely used unit of mass: the metric slug (sometimes mug or hyl) is that mass that accelerates at 1 m·s−2 when subjected to a force of 1 kgf. The kilogram-force is not a part of the modern SI system, and is generally deprecated; however it still sees use for some purposes as expressing aircraft weight, jet thrust, bicycle spoke tension, torque wrench settings and engine output torque. Other arcane units of force include the sthène, which is equivalent to 1000 N, and the kip, which is equivalent to 1000 lbf. [SEP] What is a very seldom used unit of mass in the metric system?',\n",
       "        'slug'],\n",
       "       ['The pound-force has a metric counterpart, less commonly used than the newton: the kilogram-force (kgf) (sometimes kilopond), is the force exerted by standard gravity on one kilogram of mass. The kilogram-force leads to an alternate, but rarely used unit of mass: the metric slug (sometimes mug or hyl) is that mass that accelerates at 1 m·s−2 when subjected to a force of 1 kgf. The kilogram-force is not a part of the modern SI system, and is generally deprecated; however it still sees use for some purposes as expressing aircraft weight, jet thrust, bicycle spoke tension, torque wrench settings and engine output torque. Other arcane units of force include the sthène, which is equivalent to 1000 N, and the kip, which is equivalent to 1000 lbf. [SEP] What seldom used term of a unit of force equal to 1000 pound s of force?',\n",
       "        'kip'],\n",
       "       ['The pound-force has a metric counterpart, less commonly used than the newton: the kilogram-force (kgf) (sometimes kilopond), is the force exerted by standard gravity on one kilogram of mass. The kilogram-force leads to an alternate, but rarely used unit of mass: the metric slug (sometimes mug or hyl) is that mass that accelerates at 1 m·s−2 when subjected to a force of 1 kgf. The kilogram-force is not a part of the modern SI system, and is generally deprecated; however it still sees use for some purposes as expressing aircraft weight, jet thrust, bicycle spoke tension, torque wrench settings and engine output torque. Other arcane units of force include the sthène, which is equivalent to 1000 N, and the kip, which is equivalent to 1000 lbf. [SEP] What is the seldom used force unit equal to one thousand newtons?',\n",
       "        'sthène']], dtype=object)"
      ]
     },
     "execution_count": 4,
     "metadata": {},
     "output_type": "execute_result"
    }
   ],
   "source": [
    "guru.to_numpy()"
   ]
  },
  {
   "cell_type": "markdown",
   "metadata": {},
   "source": [
    "## Save to files"
   ]
  },
  {
   "cell_type": "code",
   "execution_count": 5,
   "metadata": {},
   "outputs": [],
   "source": [
    "#passage-question\n",
    "#answer\n",
    "guru.to_file('examples/genqa.pq.example.txt', 'examples/genqa.a.example.txt')"
   ]
  },
  {
   "cell_type": "markdown",
   "metadata": {},
   "source": [
    "# 2. Applying Bert Tokenization\n",
    "\n",
    "1. Create a `SquadGuru` object who is an NLP expert. Here we give him a pretrained `BertTokenizer`."
   ]
  },
  {
   "cell_type": "code",
   "execution_count": 6,
   "metadata": {},
   "outputs": [],
   "source": [
    "from prep_squad.guru import SquadGuru\n",
    "from prep_squad.parser import SquadParser\n",
    "from transformers import BertTokenizer\n",
    "\n",
    "task = SquadParser.from_nlp_task('GEN_QA')\n",
    "tok = BertTokenizer.from_pretrained('bert-large-cased')\n",
    "guru = SquadGuru(task, tok, tags=['dev'], versions=(1.1, 2.0))"
   ]
  },
  {
   "cell_type": "code",
   "execution_count": 7,
   "metadata": {},
   "outputs": [
    {
     "name": "stdout",
     "output_type": "stream",
     "text": [
      "SQuAD-v1.1 dev dataset has been parsed.\n",
      "SQuAD-v2.0 dev dataset has been parsed.\n"
     ]
    }
   ],
   "source": [
    "guru.gather(only_first_answer=True, verbose=True)"
   ]
  },
  {
   "cell_type": "code",
   "execution_count": 8,
   "metadata": {},
   "outputs": [
    {
     "data": {
      "text/html": [
       "<div>\n",
       "<style scoped>\n",
       "    .dataframe tbody tr th:only-of-type {\n",
       "        vertical-align: middle;\n",
       "    }\n",
       "\n",
       "    .dataframe tbody tr th {\n",
       "        vertical-align: top;\n",
       "    }\n",
       "\n",
       "    .dataframe thead th {\n",
       "        text-align: right;\n",
       "    }\n",
       "</style>\n",
       "<table border=\"1\" class=\"dataframe\">\n",
       "  <thead>\n",
       "    <tr style=\"text-align: right;\">\n",
       "      <th></th>\n",
       "      <th>Input</th>\n",
       "      <th>Target</th>\n",
       "    </tr>\n",
       "  </thead>\n",
       "  <tbody>\n",
       "    <tr>\n",
       "      <th>0</th>\n",
       "      <td>Super Bowl 50 was an American football game to...</td>\n",
       "      <td>Denver Broncos</td>\n",
       "    </tr>\n",
       "    <tr>\n",
       "      <th>1</th>\n",
       "      <td>Super Bowl 50 was an American football game to...</td>\n",
       "      <td>Carolina Panthers</td>\n",
       "    </tr>\n",
       "    <tr>\n",
       "      <th>2</th>\n",
       "      <td>Super Bowl 50 was an American football game to...</td>\n",
       "      <td>Santa Clara , California</td>\n",
       "    </tr>\n",
       "    <tr>\n",
       "      <th>3</th>\n",
       "      <td>Super Bowl 50 was an American football game to...</td>\n",
       "      <td>Denver Broncos</td>\n",
       "    </tr>\n",
       "    <tr>\n",
       "      <th>4</th>\n",
       "      <td>Super Bowl 50 was an American football game to...</td>\n",
       "      <td>gold</td>\n",
       "    </tr>\n",
       "    <tr>\n",
       "      <th>...</th>\n",
       "      <td>...</td>\n",
       "      <td>...</td>\n",
       "    </tr>\n",
       "    <tr>\n",
       "      <th>16493</th>\n",
       "      <td>The pound - force has a metric counterpart , l...</td>\n",
       "      <td>k ##ilo ##gram - force</td>\n",
       "    </tr>\n",
       "    <tr>\n",
       "      <th>16494</th>\n",
       "      <td>The pound - force has a metric counterpart , l...</td>\n",
       "      <td>k ##ilo ##po ##nd</td>\n",
       "    </tr>\n",
       "    <tr>\n",
       "      <th>16495</th>\n",
       "      <td>The pound - force has a metric counterpart , l...</td>\n",
       "      <td>s ##lug</td>\n",
       "    </tr>\n",
       "    <tr>\n",
       "      <th>16496</th>\n",
       "      <td>The pound - force has a metric counterpart , l...</td>\n",
       "      <td>k ##ip</td>\n",
       "    </tr>\n",
       "    <tr>\n",
       "      <th>16497</th>\n",
       "      <td>The pound - force has a metric counterpart , l...</td>\n",
       "      <td>s ##th ##ène</td>\n",
       "    </tr>\n",
       "  </tbody>\n",
       "</table>\n",
       "<p>16498 rows × 2 columns</p>\n",
       "</div>"
      ],
      "text/plain": [
       "                                                   Input  \\\n",
       "0      Super Bowl 50 was an American football game to...   \n",
       "1      Super Bowl 50 was an American football game to...   \n",
       "2      Super Bowl 50 was an American football game to...   \n",
       "3      Super Bowl 50 was an American football game to...   \n",
       "4      Super Bowl 50 was an American football game to...   \n",
       "...                                                  ...   \n",
       "16493  The pound - force has a metric counterpart , l...   \n",
       "16494  The pound - force has a metric counterpart , l...   \n",
       "16495  The pound - force has a metric counterpart , l...   \n",
       "16496  The pound - force has a metric counterpart , l...   \n",
       "16497  The pound - force has a metric counterpart , l...   \n",
       "\n",
       "                         Target  \n",
       "0                Denver Broncos  \n",
       "1             Carolina Panthers  \n",
       "2      Santa Clara , California  \n",
       "3                Denver Broncos  \n",
       "4                          gold  \n",
       "...                         ...  \n",
       "16493    k ##ilo ##gram - force  \n",
       "16494         k ##ilo ##po ##nd  \n",
       "16495                   s ##lug  \n",
       "16496                    k ##ip  \n",
       "16497              s ##th ##ène  \n",
       "\n",
       "[16498 rows x 2 columns]"
      ]
     },
     "execution_count": 8,
     "metadata": {},
     "output_type": "execute_result"
    }
   ],
   "source": [
    "guru.to_dataframe()"
   ]
  },
  {
   "cell_type": "code",
   "execution_count": 9,
   "metadata": {},
   "outputs": [
    {
     "data": {
      "text/plain": [
       "array([['Super Bowl 50 was an American football game to determine the champion of the National Football League ( NFL ) for the 2015 season . The American Football Conference ( AFC ) champion Denver Broncos defeated the National Football Conference ( NFC ) champion Carolina Panthers 24 – 10 to earn their third Super Bowl title . The game was played on February 7 , 2016 , at Levi \\' s Stadium in the San Francisco Bay Area at Santa Clara , California . As this was the 50th Super Bowl , the league emphasized the \" golden anniversary \" with various gold - themed initiatives , as well as temporarily su ##sp ##ending the tradition of naming each Super Bowl game with Roman n ##ume ##rals ( under which the game would have been known as \" Super Bowl L \" ) , so that the logo could prominently feature the Arabic n ##ume ##rals 50 . [SEP] Which NFL team represented the AFC at Super Bowl 50 ?',\n",
       "        'Denver Broncos'],\n",
       "       ['Super Bowl 50 was an American football game to determine the champion of the National Football League ( NFL ) for the 2015 season . The American Football Conference ( AFC ) champion Denver Broncos defeated the National Football Conference ( NFC ) champion Carolina Panthers 24 – 10 to earn their third Super Bowl title . The game was played on February 7 , 2016 , at Levi \\' s Stadium in the San Francisco Bay Area at Santa Clara , California . As this was the 50th Super Bowl , the league emphasized the \" golden anniversary \" with various gold - themed initiatives , as well as temporarily su ##sp ##ending the tradition of naming each Super Bowl game with Roman n ##ume ##rals ( under which the game would have been known as \" Super Bowl L \" ) , so that the logo could prominently feature the Arabic n ##ume ##rals 50 . [SEP] Which NFL team represented the NFC at Super Bowl 50 ?',\n",
       "        'Carolina Panthers'],\n",
       "       ['Super Bowl 50 was an American football game to determine the champion of the National Football League ( NFL ) for the 2015 season . The American Football Conference ( AFC ) champion Denver Broncos defeated the National Football Conference ( NFC ) champion Carolina Panthers 24 – 10 to earn their third Super Bowl title . The game was played on February 7 , 2016 , at Levi \\' s Stadium in the San Francisco Bay Area at Santa Clara , California . As this was the 50th Super Bowl , the league emphasized the \" golden anniversary \" with various gold - themed initiatives , as well as temporarily su ##sp ##ending the tradition of naming each Super Bowl game with Roman n ##ume ##rals ( under which the game would have been known as \" Super Bowl L \" ) , so that the logo could prominently feature the Arabic n ##ume ##rals 50 . [SEP] Where did Super Bowl 50 take place ?',\n",
       "        'Santa Clara , California'],\n",
       "       ...,\n",
       "       ['The pound - force has a metric counterpart , less commonly used than the new ##ton : the k ##ilo ##gram - force ( kg ##f ) ( sometimes k ##ilo ##po ##nd ) , is the force ex ##ert ##ed by standard gravity on one k ##ilo ##gram of mass . The k ##ilo ##gram - force leads to an alternate , but rarely used unit of mass : the metric s ##lug ( sometimes mug or h ##yl ) is that mass that accelerate ##s at 1 m · s ##− ##2 when subjected to a force of 1 kg ##f . The k ##ilo ##gram - force is not a part of the modern S ##I system , and is generally de ##p ##re ##cated ; however it still sees use for some purposes as expressing aircraft weight , jet thrust , bicycle spoke tension , torque w ##rench settings and engine output torque . Other arc ##ane units of force include the s ##th ##ène , which is equivalent to 1000 N , and the k ##ip , which is equivalent to 1000 lb ##f . [SEP] What is a very seldom used unit of mass in the metric system ?',\n",
       "        's ##lug'],\n",
       "       ['The pound - force has a metric counterpart , less commonly used than the new ##ton : the k ##ilo ##gram - force ( kg ##f ) ( sometimes k ##ilo ##po ##nd ) , is the force ex ##ert ##ed by standard gravity on one k ##ilo ##gram of mass . The k ##ilo ##gram - force leads to an alternate , but rarely used unit of mass : the metric s ##lug ( sometimes mug or h ##yl ) is that mass that accelerate ##s at 1 m · s ##− ##2 when subjected to a force of 1 kg ##f . The k ##ilo ##gram - force is not a part of the modern S ##I system , and is generally de ##p ##re ##cated ; however it still sees use for some purposes as expressing aircraft weight , jet thrust , bicycle spoke tension , torque w ##rench settings and engine output torque . Other arc ##ane units of force include the s ##th ##ène , which is equivalent to 1000 N , and the k ##ip , which is equivalent to 1000 lb ##f . [SEP] What seldom used term of a unit of force equal to 1000 pound s of force ?',\n",
       "        'k ##ip'],\n",
       "       ['The pound - force has a metric counterpart , less commonly used than the new ##ton : the k ##ilo ##gram - force ( kg ##f ) ( sometimes k ##ilo ##po ##nd ) , is the force ex ##ert ##ed by standard gravity on one k ##ilo ##gram of mass . The k ##ilo ##gram - force leads to an alternate , but rarely used unit of mass : the metric s ##lug ( sometimes mug or h ##yl ) is that mass that accelerate ##s at 1 m · s ##− ##2 when subjected to a force of 1 kg ##f . The k ##ilo ##gram - force is not a part of the modern S ##I system , and is generally de ##p ##re ##cated ; however it still sees use for some purposes as expressing aircraft weight , jet thrust , bicycle spoke tension , torque w ##rench settings and engine output torque . Other arc ##ane units of force include the s ##th ##ène , which is equivalent to 1000 N , and the k ##ip , which is equivalent to 1000 lb ##f . [SEP] What is the seldom used force unit equal to one thousand new ##tons ?',\n",
       "        's ##th ##ène']], dtype=object)"
      ]
     },
     "execution_count": 9,
     "metadata": {},
     "output_type": "execute_result"
    }
   ],
   "source": [
    "guru.to_numpy()"
   ]
  },
  {
   "cell_type": "code",
   "execution_count": 10,
   "metadata": {},
   "outputs": [],
   "source": [
    "#passage-question\n",
    "#answer\n",
    "guru.to_file('examples/genqa.pq.tok.example.txt', 'examples/genqa.a.tok.example.txt')"
   ]
  },
  {
   "cell_type": "code",
   "execution_count": null,
   "metadata": {},
   "outputs": [],
   "source": []
  }
 ],
 "metadata": {
  "kernelspec": {
   "display_name": "Python 3",
   "language": "python",
   "name": "python3"
  },
  "language_info": {
   "codemirror_mode": {
    "name": "ipython",
    "version": 3
   },
   "file_extension": ".py",
   "mimetype": "text/x-python",
   "name": "python",
   "nbconvert_exporter": "python",
   "pygments_lexer": "ipython3",
   "version": "3.8.2"
  }
 },
 "nbformat": 4,
 "nbformat_minor": 4
}
